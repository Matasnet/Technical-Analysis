{
  "nbformat": 4,
  "nbformat_minor": 0,
  "metadata": {
    "colab": {
      "provenance": [],
      "authorship_tag": "ABX9TyPG8JNDSjFVqtGxV7S7zoij",
      "include_colab_link": true
    },
    "kernelspec": {
      "name": "python3",
      "display_name": "Python 3"
    },
    "language_info": {
      "name": "python"
    }
  },
  "cells": [
    {
      "cell_type": "markdown",
      "metadata": {
        "id": "view-in-github",
        "colab_type": "text"
      },
      "source": [
        "<a href=\"https://colab.research.google.com/github/Matasnet/Technical-Analysis/blob/main/Technical_Analysis_.ipynb\" target=\"_parent\"><img src=\"https://colab.research.google.com/assets/colab-badge.svg\" alt=\"Open In Colab\"/></a>"
      ]
    },
    {
      "cell_type": "markdown",
      "source": [
        "#Technical Analysis with TradingView in Python\n",
        "\n",
        "If you dont have installed tradingview_ta\n",
        "Open terminal and past pip install tradingview_ta\n",
        "If you use Google Colab past !pip install tradingview_ta\n",
        "Remeber about \"!\""
      ],
      "metadata": {
        "id": "yRXh67Tyqn8X"
      }
    },
    {
      "cell_type": "code",
      "source": [
        "#!pip install tradingview_ta"
      ],
      "metadata": {
        "id": "jz09i_i4n3IB"
      },
      "execution_count": null,
      "outputs": []
    },
    {
      "cell_type": "code",
      "execution_count": 14,
      "metadata": {
        "id": "SBGQQ2ttnsUo"
      },
      "outputs": [],
      "source": [
        "from tradingview_ta import TA_Handler, Exchange, Interval\n",
        "\n",
        "handler = TA_Handler(\n",
        "    symbol='PLNEUR',\n",
        "    screener='forex',\n",
        "    exchange=Exchange.FOREX,\n",
        "    interval=Interval.INTERVAL_1_MONTH\n",
        "    )"
      ]
    },
    {
      "cell_type": "code",
      "source": [
        "handler.get_analysis().summary"
      ],
      "metadata": {
        "colab": {
          "base_uri": "https://localhost:8080/"
        },
        "id": "U7eA4Vudo6AF",
        "outputId": "19fb7b20-5854-4e6a-e952-1c74fa5d9e39"
      },
      "execution_count": 15,
      "outputs": [
        {
          "output_type": "execute_result",
          "data": {
            "text/plain": [
              "{'RECOMMENDATION': 'BUY', 'BUY': 12, 'SELL': 4, 'NEUTRAL': 9}"
            ]
          },
          "metadata": {},
          "execution_count": 15
        }
      ]
    },
    {
      "cell_type": "code",
      "source": [
        "handler.get_analysis().indicators['RSI']"
      ],
      "metadata": {
        "colab": {
          "base_uri": "https://localhost:8080/"
        },
        "id": "3W-GZZmVo9PL",
        "outputId": "4d5388df-59db-4b6a-88a5-c6d2bf4fb88d"
      },
      "execution_count": 16,
      "outputs": [
        {
          "output_type": "execute_result",
          "data": {
            "text/plain": [
              "56.13528529"
            ]
          },
          "metadata": {},
          "execution_count": 16
        }
      ]
    },
    {
      "cell_type": "code",
      "source": [
        "handler.get_analysis().indicators"
      ],
      "metadata": {
        "colab": {
          "base_uri": "https://localhost:8080/"
        },
        "id": "jKzc6FfLpCCG",
        "outputId": "bbf1036a-0bfb-42ff-d1be-9257a6f3a929"
      },
      "execution_count": 17,
      "outputs": [
        {
          "output_type": "execute_result",
          "data": {
            "text/plain": [
              "{'Recommend.Other': 0.27272727,\n",
              " 'Recommend.All': 0.31493506,\n",
              " 'Recommend.MA': 0.35714286,\n",
              " 'RSI': 56.13528529,\n",
              " 'RSI[1]': 47.61872585,\n",
              " 'Stoch.K': 73.63622997,\n",
              " 'Stoch.D': 81.86361915,\n",
              " 'Stoch.K[1]': 78.31201294,\n",
              " 'Stoch.D[1]': 88.72788977,\n",
              " 'CCI20': 100.41454361,\n",
              " 'CCI20[1]': 45.94532118,\n",
              " 'ADX': 28.73391632,\n",
              " 'ADX+DI': 18.93272026,\n",
              " 'ADX-DI': 24.51366305,\n",
              " 'ADX+DI[1]': 18.51443126,\n",
              " 'ADX-DI[1]': 27.92576878,\n",
              " 'AO': 0.00573124,\n",
              " 'AO[1]': 0.00553603,\n",
              " 'Mom': 0.01046,\n",
              " 'Mom[1]': 0.00211,\n",
              " 'MACD.macd': 0.00100243,\n",
              " 'MACD.signal': -0.00036885,\n",
              " 'Rec.Stoch.RSI': 0,\n",
              " 'Stoch.RSI.K': 66.66801537,\n",
              " 'Rec.WR': 0,\n",
              " 'W.R': -14.42434936,\n",
              " 'Rec.BBPower': 1,\n",
              " 'BBPower': 0.00365158,\n",
              " 'Rec.UO': 0,\n",
              " 'UO': 60.48399233,\n",
              " 'close': 0.22386,\n",
              " 'EMA5': 0.22151521,\n",
              " 'SMA5': 0.223174,\n",
              " 'EMA10': 0.21985116,\n",
              " 'SMA10': 0.219235,\n",
              " 'EMA20': 0.21831155,\n",
              " 'SMA20': 0.215952,\n",
              " 'EMA30': 0.21852139,\n",
              " 'SMA30': 0.216631,\n",
              " 'EMA50': 0.22042053,\n",
              " 'SMA50': 0.2198164,\n",
              " 'EMA100': 0.22615857,\n",
              " 'SMA100': 0.2264936,\n",
              " 'EMA200': 0.23738333,\n",
              " 'SMA200': 0.23723495,\n",
              " 'Rec.Ichimoku': 0,\n",
              " 'Ichimoku.BLine': 0.21365,\n",
              " 'Rec.VWMA': None,\n",
              " 'VWMA': None,\n",
              " 'Rec.HullMA9': 1,\n",
              " 'HullMA9': 0.22310974,\n",
              " 'Pivot.M.Classic.S3': 0.16681333,\n",
              " 'Pivot.M.Classic.S2': 0.18947333,\n",
              " 'Pivot.M.Classic.S1': 0.20143667,\n",
              " 'Pivot.M.Classic.Middle': 0.21213333,\n",
              " 'Pivot.M.Classic.R1': 0.22409667,\n",
              " 'Pivot.M.Classic.R2': 0.23479333,\n",
              " 'Pivot.M.Classic.R3': 0.25745333,\n",
              " 'Pivot.M.Fibonacci.S3': 0.18947333,\n",
              " 'Pivot.M.Fibonacci.S2': 0.19812945,\n",
              " 'Pivot.M.Fibonacci.S1': 0.20347721,\n",
              " 'Pivot.M.Fibonacci.Middle': 0.21213333,\n",
              " 'Pivot.M.Fibonacci.R1': 0.22078945,\n",
              " 'Pivot.M.Fibonacci.R2': 0.22613721,\n",
              " 'Pivot.M.Fibonacci.R3': 0.23479333,\n",
              " 'Pivot.M.Camarilla.S3': 0.2071685,\n",
              " 'Pivot.M.Camarilla.S2': 0.20924567,\n",
              " 'Pivot.M.Camarilla.S1': 0.21132283,\n",
              " 'Pivot.M.Camarilla.Middle': 0.21213333,\n",
              " 'Pivot.M.Camarilla.R1': 0.21547717,\n",
              " 'Pivot.M.Camarilla.R2': 0.21755433,\n",
              " 'Pivot.M.Camarilla.R3': 0.2196315,\n",
              " 'Pivot.M.Woodie.S3': 0.17932,\n",
              " 'Pivot.M.Woodie.S2': 0.189745,\n",
              " 'Pivot.M.Woodie.S1': 0.20198,\n",
              " 'Pivot.M.Woodie.Middle': 0.212405,\n",
              " 'Pivot.M.Woodie.R1': 0.22464,\n",
              " 'Pivot.M.Woodie.R2': 0.235065,\n",
              " 'Pivot.M.Woodie.R3': 0.2473,\n",
              " 'Pivot.M.Demark.S1': 0.195455,\n",
              " 'Pivot.M.Demark.Middle': 0.2091425,\n",
              " 'Pivot.M.Demark.R1': 0.218115,\n",
              " 'open': 0.21601,\n",
              " 'P.SAR': 0.20827232,\n",
              " 'BB.lower': 0.20509969,\n",
              " 'BB.upper': 0.22680431,\n",
              " 'AO[2]': 0.00489732,\n",
              " 'volume': 0,\n",
              " 'change': 3.63409101,\n",
              " 'low': 0.21546,\n",
              " 'high': 0.2264}"
            ]
          },
          "metadata": {},
          "execution_count": 17
        }
      ]
    }
  ]
}