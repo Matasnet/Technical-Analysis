{
  "nbformat": 4,
  "nbformat_minor": 0,
  "metadata": {
    "colab": {
      "provenance": [],
      "authorship_tag": "ABX9TyOS+qrF7mfSCbFHhWZklTk7",
      "include_colab_link": true
    },
    "kernelspec": {
      "name": "python3",
      "display_name": "Python 3"
    },
    "language_info": {
      "name": "python"
    }
  },
  "cells": [
    {
      "cell_type": "markdown",
      "metadata": {
        "id": "view-in-github",
        "colab_type": "text"
      },
      "source": [
        "<a href=\"https://colab.research.google.com/github/Matasnet/Technical-Analysis/blob/main/Technical_Analysis.ipynb\" target=\"_parent\"><img src=\"https://colab.research.google.com/assets/colab-badge.svg\" alt=\"Open In Colab\"/></a>"
      ]
    },
    {
      "cell_type": "markdown",
      "source": [
        "#Technical Analysis with TradingView in Python\n",
        "\n",
        "If you dont have installed tradingview_ta\n",
        "Open terminal and past pip install tradingview_ta\n",
        "If you use Google Colab past !pip install tradingview_ta\n",
        "Remeber about \"!\""
      ],
      "metadata": {
        "id": "yRXh67Tyqn8X"
      }
    },
    {
      "cell_type": "code",
      "source": [
        "!pip install tradingview_ta"
      ],
      "metadata": {
        "id": "jz09i_i4n3IB"
      },
      "execution_count": null,
      "outputs": []
    },
    {
      "cell_type": "code",
      "execution_count": 46,
      "metadata": {
        "id": "SBGQQ2ttnsUo"
      },
      "outputs": [],
      "source": [
        "from tradingview_ta import TA_Handler, Exchange, Interval\n",
        "\n",
        "handler = TA_Handler(\n",
        "    symbol='WIG20',\n",
        "    screener='cfd',\n",
        "    exchange='GPW',\n",
        "    interval=\"1d\"\n",
        "    )"
      ]
    },
    {
      "cell_type": "code",
      "source": [
        "handler.get_analysis().summary"
      ],
      "metadata": {
        "colab": {
          "base_uri": "https://localhost:8080/"
        },
        "id": "s2EfNuWiMKJq",
        "outputId": "8be032b8-3515-4cfb-ca78-7799762c3831"
      },
      "execution_count": 31,
      "outputs": [
        {
          "output_type": "execute_result",
          "data": {
            "text/plain": [
              "{'RECOMMENDATION': 'BUY', 'BUY': 12, 'SELL': 3, 'NEUTRAL': 10}"
            ]
          },
          "metadata": {},
          "execution_count": 31
        }
      ]
    },
    {
      "cell_type": "code",
      "source": [
        "handler.get_analysis().indicators"
      ],
      "metadata": {
        "id": "jKzc6FfLpCCG"
      },
      "execution_count": null,
      "outputs": []
    },
    {
      "cell_type": "code",
      "source": [
        "handler.get_analysis().indicators['open']\n"
      ],
      "metadata": {
        "colab": {
          "base_uri": "https://localhost:8080/"
        },
        "id": "5HrXwoE4OJxK",
        "outputId": "4a4bf20c-45a9-4b55-88a0-b47a7eaa58cf"
      },
      "execution_count": 47,
      "outputs": [
        {
          "output_type": "execute_result",
          "data": {
            "text/plain": [
              "2028.21"
            ]
          },
          "metadata": {},
          "execution_count": 47
        }
      ]
    }
  ]
}